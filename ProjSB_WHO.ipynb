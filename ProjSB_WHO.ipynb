{
 "cells": [
  {
   "cell_type": "code",
   "execution_count": 1,
   "id": "129ede79-ec36-47f3-8e10-1adcecf86852",
   "metadata": {},
   "outputs": [],
   "source": [
    "import pandas as pd\n",
    "pd.options.mode.chained_assignment = None "
   ]
  },
  {
   "cell_type": "code",
   "execution_count": null,
   "id": "0827db48-0d49-4d9e-8c61-4b9f564945b3",
   "metadata": {},
   "outputs": [],
   "source": [
    "df=pd.read_csv('cop.csv')"
   ]
  },
  {
   "cell_type": "code",
   "execution_count": 3,
   "id": "97bc6ddc-df98-4ed0-92c9-189594edb4cd",
   "metadata": {},
   "outputs": [],
   "source": [
    "for i in range(len(df.q_1)):    \n",
    "    if pd.isna(df.q_1[i])==False:\n",
    "        \n",
    "        df.m_01[i]=df.q_1[i]//3\n",
    "        df.m_02[i]=df.q_1[i]//3\n",
    "        df.m_03[i]=df.q_1[i]//3\n",
    "        \n",
    "        if df.q_1[i]%3==2:\n",
    "            df.m_01[i]+=1\n",
    "            df.m_02[i]+=1\n",
    "            \n",
    "        if df.q_1[i]%3==1:\n",
    "            df.m_01[i]+=1"
   ]
  },
  {
   "cell_type": "code",
   "execution_count": 4,
   "id": "7ea269af-cecc-4adc-bada-9dce9619c4aa",
   "metadata": {},
   "outputs": [],
   "source": [
    "for i in range(len(df.q_2)):    \n",
    "    if pd.isna(df.q_2[i])==False:\n",
    "        \n",
    "        df.m_04[i]=df.q_2[i]//3\n",
    "        df.m_05[i]=df.q_2[i]//3\n",
    "        df.m_06[i]=df.q_2[i]//3\n",
    "        \n",
    "        if df.q_2[i]%3==2:\n",
    "            df.m_04[i]+=1\n",
    "            df.m_05[i]+=1\n",
    "            \n",
    "        if df.q_2[i]%3==1:\n",
    "            df.m_04[i]+=1"
   ]
  },
  {
   "cell_type": "code",
   "execution_count": 5,
   "id": "683ceb83-f7b0-42d1-bd2d-d85632977d15",
   "metadata": {},
   "outputs": [],
   "source": [
    "for i in range(len(df.q_3)):   \n",
    "    if pd.isna(df.q_3[i])==False:\n",
    "        \n",
    "        df.m_07[i]=df.q_3[i]//3\n",
    "        df.m_08[i]=df.q_3[i]//3\n",
    "        df.m_09[i]=df.q_3[i]//3\n",
    "        \n",
    "        if df.q_3[i]%3==2:\n",
    "            df.m_07[i]+=1\n",
    "            df.m_08[i]+=1\n",
    "            \n",
    "        if df.q_3[i]%3==1:\n",
    "            df.m_07[i]+=1"
   ]
  },
  {
   "cell_type": "code",
   "execution_count": 6,
   "id": "3b295350-f5df-421c-abf7-79b8cdfad095",
   "metadata": {},
   "outputs": [],
   "source": [
    "for i in range(len(df.q_4)):   \n",
    "    if pd.isna(df.q_4[i])==False:\n",
    "        \n",
    "        df.m_10[i]=df.q_4[i]//3\n",
    "        df.m_11[i]=df.q_4[i]//3\n",
    "        df.m_12[i]=df.q_4[i]//3\n",
    "        \n",
    "        if df.q_4[i]%3==2:\n",
    "            df.m_10[i]+=1\n",
    "            df.m_11[i]+=1\n",
    "            \n",
    "        if df.q_4[i]%3==1:\n",
    "            df.m_10[i]+=1"
   ]
  },
  {
   "cell_type": "code",
   "execution_count": 7,
   "id": "2a11305a-243d-4ab8-bfdc-dd9db3ddaf8c",
   "metadata": {},
   "outputs": [],
   "source": [
    "for i in range(len(df.q_1)):      \n",
    "    if pd.isna(df.q_1[i])==True:\n",
    "        df.q_1[i]=df.m_01[i]+df.m_02[i]+df.m_03[i]"
   ]
  },
  {
   "cell_type": "code",
   "execution_count": 8,
   "id": "1ad6cdd0-ce6b-4ee8-b100-73ca9dec6f3b",
   "metadata": {},
   "outputs": [],
   "source": [
    "for i in range(len(df.q_2)):   \n",
    "    if pd.isna(df.q_2[i])==True:\n",
    "        df.q_2[i]=df.m_04[i]+df.m_05[i]+df.m_06[i]"
   ]
  },
  {
   "cell_type": "code",
   "execution_count": 9,
   "id": "e297684a-1b44-4745-925d-7c9667192d06",
   "metadata": {},
   "outputs": [],
   "source": [
    "for i in range(len(df.q_3)):   \n",
    "    if pd.isna(df.q_3[i])==True:\n",
    "        df.q_3[i]=df.m_07[i]+df.m_08[i]+df.m_09[i]"
   ]
  },
  {
   "cell_type": "code",
   "execution_count": 10,
   "id": "33fead12-c45c-4617-b586-2870a430016a",
   "metadata": {},
   "outputs": [],
   "source": [
    "for i in range(len(df.q_4)):  \n",
    "    if pd.isna(df.q_4[i])==True:\n",
    "        df.q_4[i]=df.m_10[i]+df.m_11[i]+df.m_12[i]"
   ]
  },
  {
   "cell_type": "code",
   "execution_count": 11,
   "id": "90f3e074-c28e-4138-af58-9c886e53bbb0",
   "metadata": {},
   "outputs": [],
   "source": [
    "for i in range(len(df.q_1)):\n",
    "    if pd.isna(df.q_1[i])==True and pd.isna(df.m_01[i])==True and pd.isna(df.m_02[i])==True and pd.isna(df.m_03[i])==True:\n",
    "        df.q_1[i]=0\n",
    "        df.m_01[i]=0\n",
    "        df.m_02[i]=0\n",
    "        df.m_03[i]=0"
   ]
  },
  {
   "cell_type": "code",
   "execution_count": 12,
   "id": "0797c468-bdb3-4ebd-aec4-de87b79e952f",
   "metadata": {},
   "outputs": [],
   "source": [
    "for i in range(len(df.q_2)):\n",
    "    if pd.isna(df.q_2[i])==True and pd.isna(df.m_04[i])==True and pd.isna(df.m_05[i])==True and pd.isna(df.m_06[i])==True:\n",
    "        df.q_2[i]=0\n",
    "        df.m_04[i]=0\n",
    "        df.m_05[i]=0\n",
    "        df.m_06[i]=0"
   ]
  },
  {
   "cell_type": "code",
   "execution_count": 13,
   "id": "0acf51c3-a8cc-45a6-8369-3318d6aa5517",
   "metadata": {},
   "outputs": [],
   "source": [
    "for i in range(len(df.q_3)):\n",
    "    if pd.isna(df.q_3[i])==True and pd.isna(df.m_07[i])==True and pd.isna(df.m_08[i])==True and pd.isna(df.m_09[i])==True:\n",
    "        df.q_3[i]=0\n",
    "        df.m_07[i]=0\n",
    "        df.m_08[i]=0\n",
    "        df.m_09[i]=0"
   ]
  },
  {
   "cell_type": "code",
   "execution_count": 14,
   "id": "4bb7f429-c437-4a62-99bd-e86aa5ec7ab0",
   "metadata": {},
   "outputs": [],
   "source": [
    "for i in range(len(df.q_4)):\n",
    "    if pd.isna(df.q_4[i])==True and pd.isna(df.m_10[i])==True and pd.isna(df.m_11[i])==True and pd.isna(df.m_12[i])==True:\n",
    "        df.q_4[i]=0\n",
    "        df.m_10[i]=0\n",
    "        df.m_11[i]=0\n",
    "        df.m_12[i]=0"
   ]
  },
  {
   "cell_type": "code",
   "execution_count": 15,
   "id": "763b157d-a49e-41ca-9044-3c8599995afb",
   "metadata": {},
   "outputs": [],
   "source": [
    "for i in range(len(df.q_3)):\n",
    "    if pd.isna(df.q_1[i])==True:\n",
    "        df.q_1[i]=0\n",
    "        \n",
    "for i in range(len(df.q_3)):\n",
    "    if pd.isna(df.q_2[i])==True:\n",
    "        df.q_2[i]=0\n",
    "        \n",
    "for i in range(len(df.q_3)):\n",
    "    if pd.isna(df.q_3[i])==True:\n",
    "        df.q_3[i]=0\n",
    "        \n",
    "for i in range(len(df.q_3)):\n",
    "    if pd.isna(df.q_4[i])==True:\n",
    "        df.q_4[i]=0\n",
    "\n",
    "\n",
    "for i in range(len(df.q_3)):\n",
    "    if pd.isna(df.m_01[i])==True:\n",
    "        df.m_01[i]=0\n",
    "\n",
    "for i in range(len(df.q_3)):\n",
    "    if pd.isna(df.m_02[i])==True:\n",
    "        df.m_02[i]=0\n",
    "\n",
    "for i in range(len(df.q_3)):\n",
    "    if pd.isna(df.m_03[i])==True:\n",
    "        df.m_03[i]=0\n",
    "\n",
    "for i in range(len(df.q_3)):\n",
    "    if pd.isna(df.m_04[i])==True:\n",
    "        df.m_04[i]=0\n",
    "\n",
    "for i in range(len(df.q_3)):\n",
    "    if pd.isna(df.m_05[i])==True:\n",
    "        df.m_05[i]=0\n",
    "\n",
    "for i in range(len(df.q_3)):\n",
    "    if pd.isna(df.m_06[i])==True:\n",
    "        df.m_06[i]=0\n",
    "\n",
    "for i in range(len(df.q_3)):\n",
    "    if pd.isna(df.m_07[i])==True:\n",
    "        df.m_07[i]=0\n",
    "\n",
    "for i in range(len(df.q_3)):\n",
    "    if pd.isna(df.m_08[i])==True:\n",
    "        df.m_08[i]=0\n",
    "\n",
    "for i in range(len(df.q_3)):\n",
    "    if pd.isna(df.m_09[i])==True:\n",
    "        df.m_09[i]=0\n",
    "\n",
    "for i in range(len(df.q_3)):\n",
    "    if pd.isna(df.m_10[i])==True:\n",
    "        df.m_10[i]=0\n",
    "\n",
    "for i in range(len(df.q_3)):\n",
    "    if pd.isna(df.m_11[i])==True:\n",
    "        df.m_11[i]=0\n",
    "\n",
    "for i in range(len(df.q_3)):\n",
    "    if pd.isna(df.m_12[i])==True:\n",
    "        df.m_12[i]=0"
   ]
  },
  {
   "cell_type": "code",
   "execution_count": 16,
   "id": "45570d7d-d576-4224-a5c6-885673c66194",
   "metadata": {},
   "outputs": [
    {
     "ename": "ModuleNotFoundError",
     "evalue": "No module named 'openpyxl'",
     "output_type": "error",
     "traceback": [
      "\u001b[1;31m---------------------------------------------------------------------------\u001b[0m",
      "\u001b[1;31mModuleNotFoundError\u001b[0m                       Traceback (most recent call last)",
      "Cell \u001b[1;32mIn[16], line 1\u001b[0m\n\u001b[1;32m----> 1\u001b[0m \u001b[43mdf\u001b[49m\u001b[38;5;241;43m.\u001b[39;49m\u001b[43mto_excel\u001b[49m\u001b[43m(\u001b[49m\u001b[38;5;124;43m\"\u001b[39;49m\u001b[38;5;124;43mdata.xlsx\u001b[39;49m\u001b[38;5;124;43m\"\u001b[39;49m\u001b[43m,\u001b[49m\u001b[43mindex\u001b[49m\u001b[38;5;241;43m=\u001b[39;49m\u001b[38;5;28;43;01mFalse\u001b[39;49;00m\u001b[43m)\u001b[49m\n",
      "File \u001b[1;32m~\\AppData\\Local\\Programs\\Python\\Python311\\Lib\\site-packages\\pandas\\util\\_decorators.py:211\u001b[0m, in \u001b[0;36mdeprecate_kwarg.<locals>._deprecate_kwarg.<locals>.wrapper\u001b[1;34m(*args, **kwargs)\u001b[0m\n\u001b[0;32m    209\u001b[0m     \u001b[38;5;28;01melse\u001b[39;00m:\n\u001b[0;32m    210\u001b[0m         kwargs[new_arg_name] \u001b[38;5;241m=\u001b[39m new_arg_value\n\u001b[1;32m--> 211\u001b[0m \u001b[38;5;28;01mreturn\u001b[39;00m \u001b[43mfunc\u001b[49m\u001b[43m(\u001b[49m\u001b[38;5;241;43m*\u001b[39;49m\u001b[43margs\u001b[49m\u001b[43m,\u001b[49m\u001b[43m \u001b[49m\u001b[38;5;241;43m*\u001b[39;49m\u001b[38;5;241;43m*\u001b[39;49m\u001b[43mkwargs\u001b[49m\u001b[43m)\u001b[49m\n",
      "File \u001b[1;32m~\\AppData\\Local\\Programs\\Python\\Python311\\Lib\\site-packages\\pandas\\util\\_decorators.py:211\u001b[0m, in \u001b[0;36mdeprecate_kwarg.<locals>._deprecate_kwarg.<locals>.wrapper\u001b[1;34m(*args, **kwargs)\u001b[0m\n\u001b[0;32m    209\u001b[0m     \u001b[38;5;28;01melse\u001b[39;00m:\n\u001b[0;32m    210\u001b[0m         kwargs[new_arg_name] \u001b[38;5;241m=\u001b[39m new_arg_value\n\u001b[1;32m--> 211\u001b[0m \u001b[38;5;28;01mreturn\u001b[39;00m \u001b[43mfunc\u001b[49m\u001b[43m(\u001b[49m\u001b[38;5;241;43m*\u001b[39;49m\u001b[43margs\u001b[49m\u001b[43m,\u001b[49m\u001b[43m \u001b[49m\u001b[38;5;241;43m*\u001b[39;49m\u001b[38;5;241;43m*\u001b[39;49m\u001b[43mkwargs\u001b[49m\u001b[43m)\u001b[49m\n",
      "File \u001b[1;32m~\\AppData\\Local\\Programs\\Python\\Python311\\Lib\\site-packages\\pandas\\core\\generic.py:2374\u001b[0m, in \u001b[0;36mNDFrame.to_excel\u001b[1;34m(self, excel_writer, sheet_name, na_rep, float_format, columns, header, index, index_label, startrow, startcol, engine, merge_cells, encoding, inf_rep, verbose, freeze_panes, storage_options)\u001b[0m\n\u001b[0;32m   2361\u001b[0m \u001b[38;5;28;01mfrom\u001b[39;00m \u001b[38;5;21;01mpandas\u001b[39;00m\u001b[38;5;21;01m.\u001b[39;00m\u001b[38;5;21;01mio\u001b[39;00m\u001b[38;5;21;01m.\u001b[39;00m\u001b[38;5;21;01mformats\u001b[39;00m\u001b[38;5;21;01m.\u001b[39;00m\u001b[38;5;21;01mexcel\u001b[39;00m \u001b[38;5;28;01mimport\u001b[39;00m ExcelFormatter\n\u001b[0;32m   2363\u001b[0m formatter \u001b[38;5;241m=\u001b[39m ExcelFormatter(\n\u001b[0;32m   2364\u001b[0m     df,\n\u001b[0;32m   2365\u001b[0m     na_rep\u001b[38;5;241m=\u001b[39mna_rep,\n\u001b[1;32m   (...)\u001b[0m\n\u001b[0;32m   2372\u001b[0m     inf_rep\u001b[38;5;241m=\u001b[39minf_rep,\n\u001b[0;32m   2373\u001b[0m )\n\u001b[1;32m-> 2374\u001b[0m \u001b[43mformatter\u001b[49m\u001b[38;5;241;43m.\u001b[39;49m\u001b[43mwrite\u001b[49m\u001b[43m(\u001b[49m\n\u001b[0;32m   2375\u001b[0m \u001b[43m    \u001b[49m\u001b[43mexcel_writer\u001b[49m\u001b[43m,\u001b[49m\n\u001b[0;32m   2376\u001b[0m \u001b[43m    \u001b[49m\u001b[43msheet_name\u001b[49m\u001b[38;5;241;43m=\u001b[39;49m\u001b[43msheet_name\u001b[49m\u001b[43m,\u001b[49m\n\u001b[0;32m   2377\u001b[0m \u001b[43m    \u001b[49m\u001b[43mstartrow\u001b[49m\u001b[38;5;241;43m=\u001b[39;49m\u001b[43mstartrow\u001b[49m\u001b[43m,\u001b[49m\n\u001b[0;32m   2378\u001b[0m \u001b[43m    \u001b[49m\u001b[43mstartcol\u001b[49m\u001b[38;5;241;43m=\u001b[39;49m\u001b[43mstartcol\u001b[49m\u001b[43m,\u001b[49m\n\u001b[0;32m   2379\u001b[0m \u001b[43m    \u001b[49m\u001b[43mfreeze_panes\u001b[49m\u001b[38;5;241;43m=\u001b[39;49m\u001b[43mfreeze_panes\u001b[49m\u001b[43m,\u001b[49m\n\u001b[0;32m   2380\u001b[0m \u001b[43m    \u001b[49m\u001b[43mengine\u001b[49m\u001b[38;5;241;43m=\u001b[39;49m\u001b[43mengine\u001b[49m\u001b[43m,\u001b[49m\n\u001b[0;32m   2381\u001b[0m \u001b[43m    \u001b[49m\u001b[43mstorage_options\u001b[49m\u001b[38;5;241;43m=\u001b[39;49m\u001b[43mstorage_options\u001b[49m\u001b[43m,\u001b[49m\n\u001b[0;32m   2382\u001b[0m \u001b[43m\u001b[49m\u001b[43m)\u001b[49m\n",
      "File \u001b[1;32m~\\AppData\\Local\\Programs\\Python\\Python311\\Lib\\site-packages\\pandas\\io\\formats\\excel.py:944\u001b[0m, in \u001b[0;36mExcelFormatter.write\u001b[1;34m(self, writer, sheet_name, startrow, startcol, freeze_panes, engine, storage_options)\u001b[0m\n\u001b[0;32m    940\u001b[0m     need_save \u001b[38;5;241m=\u001b[39m \u001b[38;5;28;01mFalse\u001b[39;00m\n\u001b[0;32m    941\u001b[0m \u001b[38;5;28;01melse\u001b[39;00m:\n\u001b[0;32m    942\u001b[0m     \u001b[38;5;66;03m# error: Cannot instantiate abstract class 'ExcelWriter' with abstract\u001b[39;00m\n\u001b[0;32m    943\u001b[0m     \u001b[38;5;66;03m# attributes 'engine', 'save', 'supported_extensions' and 'write_cells'\u001b[39;00m\n\u001b[1;32m--> 944\u001b[0m     writer \u001b[38;5;241m=\u001b[39m \u001b[43mExcelWriter\u001b[49m\u001b[43m(\u001b[49m\u001b[43m  \u001b[49m\u001b[38;5;66;43;03m# type: ignore[abstract]\u001b[39;49;00m\n\u001b[0;32m    945\u001b[0m \u001b[43m        \u001b[49m\u001b[43mwriter\u001b[49m\u001b[43m,\u001b[49m\u001b[43m \u001b[49m\u001b[43mengine\u001b[49m\u001b[38;5;241;43m=\u001b[39;49m\u001b[43mengine\u001b[49m\u001b[43m,\u001b[49m\u001b[43m \u001b[49m\u001b[43mstorage_options\u001b[49m\u001b[38;5;241;43m=\u001b[39;49m\u001b[43mstorage_options\u001b[49m\n\u001b[0;32m    946\u001b[0m \u001b[43m    \u001b[49m\u001b[43m)\u001b[49m\n\u001b[0;32m    947\u001b[0m     need_save \u001b[38;5;241m=\u001b[39m \u001b[38;5;28;01mTrue\u001b[39;00m\n\u001b[0;32m    949\u001b[0m \u001b[38;5;28;01mtry\u001b[39;00m:\n",
      "File \u001b[1;32m~\\AppData\\Local\\Programs\\Python\\Python311\\Lib\\site-packages\\pandas\\io\\excel\\_openpyxl.py:56\u001b[0m, in \u001b[0;36mOpenpyxlWriter.__init__\u001b[1;34m(self, path, engine, date_format, datetime_format, mode, storage_options, if_sheet_exists, engine_kwargs, **kwargs)\u001b[0m\n\u001b[0;32m     43\u001b[0m \u001b[38;5;28;01mdef\u001b[39;00m \u001b[38;5;21m__init__\u001b[39m(\n\u001b[0;32m     44\u001b[0m     \u001b[38;5;28mself\u001b[39m,\n\u001b[0;32m     45\u001b[0m     path: FilePath \u001b[38;5;241m|\u001b[39m WriteExcelBuffer \u001b[38;5;241m|\u001b[39m ExcelWriter,\n\u001b[1;32m   (...)\u001b[0m\n\u001b[0;32m     54\u001b[0m ) \u001b[38;5;241m-\u001b[39m\u001b[38;5;241m>\u001b[39m \u001b[38;5;28;01mNone\u001b[39;00m:\n\u001b[0;32m     55\u001b[0m     \u001b[38;5;66;03m# Use the openpyxl module as the Excel writer.\u001b[39;00m\n\u001b[1;32m---> 56\u001b[0m     \u001b[38;5;28;01mfrom\u001b[39;00m \u001b[38;5;21;01mopenpyxl\u001b[39;00m\u001b[38;5;21;01m.\u001b[39;00m\u001b[38;5;21;01mworkbook\u001b[39;00m \u001b[38;5;28;01mimport\u001b[39;00m Workbook\n\u001b[0;32m     58\u001b[0m     engine_kwargs \u001b[38;5;241m=\u001b[39m combine_kwargs(engine_kwargs, kwargs)\n\u001b[0;32m     60\u001b[0m     \u001b[38;5;28msuper\u001b[39m()\u001b[38;5;241m.\u001b[39m\u001b[38;5;21m__init__\u001b[39m(\n\u001b[0;32m     61\u001b[0m         path,\n\u001b[0;32m     62\u001b[0m         mode\u001b[38;5;241m=\u001b[39mmode,\n\u001b[1;32m   (...)\u001b[0m\n\u001b[0;32m     65\u001b[0m         engine_kwargs\u001b[38;5;241m=\u001b[39mengine_kwargs,\n\u001b[0;32m     66\u001b[0m     )\n",
      "\u001b[1;31mModuleNotFoundError\u001b[0m: No module named 'openpyxl'"
     ]
    }
   ],
   "source": [
    "df.to_excel(\"data.xlsx\",index=False)"
   ]
  },
  {
   "cell_type": "code",
   "execution_count": null,
   "id": "9aaf58b4-edc3-459c-a626-89903b3d2780",
   "metadata": {},
   "outputs": [],
   "source": []
  }
 ],
 "metadata": {
  "kernelspec": {
   "display_name": "Python 3 (ipykernel)",
   "language": "python",
   "name": "python3"
  },
  "language_info": {
   "codemirror_mode": {
    "name": "ipython",
    "version": 3
   },
   "file_extension": ".py",
   "mimetype": "text/x-python",
   "name": "python",
   "nbconvert_exporter": "python",
   "pygments_lexer": "ipython3",
   "version": "3.11.5"
  }
 },
 "nbformat": 4,
 "nbformat_minor": 5
}
